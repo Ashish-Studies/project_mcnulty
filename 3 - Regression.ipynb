{
 "cells": [
  {
   "cell_type": "code",
   "execution_count": 1,
   "metadata": {
    "tags": [
     "settings"
    ]
   },
   "outputs": [],
   "source": [
    "import pickle\n",
    "import pprint\n",
    "import matplotlib.pyplot as plt\n",
    "import matplotlib.style as style\n",
    "import numpy as np\n",
    "import pandas as pd\n",
    "from imblearn.over_sampling import SMOTE\n",
    "from sklearn.ensemble import RandomForestClassifier, GradientBoostingClassifier, AdaBoostClassifier\n",
    "from sklearn.linear_model import LogisticRegression\n",
    "from sklearn.metrics import roc_auc_score, roc_curve, classification_report, confusion_matrix, precision_score, \\\n",
    "    recall_score\n",
    "from sklearn.model_selection import train_test_split, GridSearchCV, cross_val_predict, KFold\n",
    "from sklearn.naive_bayes import GaussianNB\n",
    "from sklearn.pipeline import Pipeline\n",
    "from sklearn.pipeline import make_pipeline\n",
    "from sklearn.preprocessing import StandardScaler\n",
    "from sklearn.svm import LinearSVC\n",
    "from sklearn.svm import SVC\n",
    "from sklearn.tree import DecisionTreeClassifier\n"
   ]
  },
  {
   "cell_type": "code",
   "execution_count": 2,
   "metadata": {},
   "outputs": [],
   "source": [
    "import warnings\n",
    "warnings.filterwarnings(\"ignore\")\n",
    "\n",
    "style.use('seaborn-whitegrid')\n",
    "%matplotlib inline"
   ]
  },
  {
   "cell_type": "code",
   "execution_count": 3,
   "metadata": {},
   "outputs": [
    {
     "name": "stdout",
     "output_type": "stream",
     "text": [
      "Exception reporting mode: Plain\n"
     ]
    }
   ],
   "source": [
    "%xmode Plain"
   ]
  },
  {
   "cell_type": "code",
   "execution_count": 4,
   "metadata": {},
   "outputs": [],
   "source": [
    "df = pd.read_csv('data/clean_data_encoded_for_regression.csv')\n",
    "\n",
    "X = df[['gender', 'senior', 'partner', 'dependents', 'tenure', 'phone_service',\n",
    "       'multiple_lines', 'online_security', 'online_backup',\n",
    "       'device_protection', 'tech_support', 'streaming_tv', 'streaming_movies',\n",
    "       'paperless_billing', 'monthly_charges', 'total_charges',\n",
    "       'avg_monthly_charges', 'internet_service-fiber_optic',\n",
    "       'internet_service-no', 'contract-one_year', 'contract-two_year',\n",
    "       'payment_method-credit_card_auto', 'payment_method-electronic_check',\n",
    "       'payment_method-mailed_check']]\n",
    "\n",
    "y = df['churn']\n",
    "\n",
    "# Stratify our train-test-split so that we have a balanced split\n",
    "X_train, X_test, y_train, y_test = train_test_split(X, y, test_size=0.3, random_state=40, stratify=y)"
   ]
  },
  {
   "cell_type": "markdown",
   "metadata": {},
   "source": [
    "#### Upsample with SMOTE to get a balanced dataset"
   ]
  },
  {
   "cell_type": "markdown",
   "metadata": {},
   "source": [
    "Currently, only 27% of our dataset is categorized as \"Churn\" (i.e., will leave the telecom company and no longer be a customer this month). In order to train our model better, we are upsampling with SMOTE so that 50% of our dataset is categorized as \"Churn\". This makes sense because we are more concerned about recall (making sure our model catches nearly everyone who is likely to churn) than it is about precision.\n",
    "\n",
    "The rationale? It's much cheaper to keep an existing customer than to acquire a new one."
   ]
  },
  {
   "cell_type": "code",
   "execution_count": 5,
   "metadata": {},
   "outputs": [
    {
     "name": "stdout",
     "output_type": "stream",
     "text": [
      "0    3614\n",
      "1    1308\n",
      "Name: churn, dtype: int64 [3614 3614]\n"
     ]
    }
   ],
   "source": [
    "sm = SMOTE(random_state=42, ratio=1.0)\n",
    "X_train_res, y_train_res = sm.fit_sample(X_train, y_train)\n",
    "print(y_train.value_counts(), np.bincount(y_train_res))"
   ]
  },
  {
   "cell_type": "markdown",
   "metadata": {},
   "source": [
    "### Let's do some quick and dirty analyses to determine which models we should tune further"
   ]
  },
  {
   "cell_type": "markdown",
   "metadata": {},
   "source": [
    "First we'll do ANOTHER train test split on the training set. We want to make sure that we leave our actual test data (X_test and y_test) alone."
   ]
  },
  {
   "cell_type": "code",
   "execution_count": 6,
   "metadata": {},
   "outputs": [],
   "source": [
    "X_train_2, X_test_2, y_train_2, y_test_2 = train_test_split(X_train_res, y_train_res, test_size=0.33, random_state=20)"
   ]
  },
  {
   "cell_type": "code",
   "execution_count": 7,
   "metadata": {},
   "outputs": [
    {
     "name": "stdout",
     "output_type": "stream",
     "text": [
      "Train Acc    0.771968\n",
      "Test Acc     0.762285\n",
      "dtype: float64\n"
     ]
    }
   ],
   "source": [
    "def quick_test(model, X, y):\n",
    "    xtrain, xtest, ytrain, ytest = train_test_split(X, y, test_size=0.3)\n",
    "    model.fit(xtrain, ytrain)\n",
    "    return model.score(xtrain, ytrain), model.score(xtest, ytest)\n",
    "\n",
    "\n",
    "def quick_test_a_few_times(model, X, y, n=10):\n",
    "    return (pd.DataFrame([quick_test(model, X, y) for j in range(n)],\n",
    "                         columns=['Train Acc', 'Test Acc'])).mean()\n",
    "\n",
    "new_model = make_pipeline(StandardScaler(), LinearSVC(max_iter=10000))\n",
    "# pred = new_model.predict(X_test)\n",
    "# Do the test 10 times with a LinearSVC and get the average score\n",
    "print(quick_test_a_few_times(new_model, X_train_2, y_train_2))\n"
   ]
  },
  {
   "cell_type": "code",
   "execution_count": 8,
   "metadata": {},
   "outputs": [],
   "source": [
    "def get_scores(model):\n",
    "    mod = model\n",
    "    mod = mod.fit(X_train_2, y_train_2)\n",
    "    predictions = mod.predict(X_test_2)\n",
    "\n",
    "    print(f'Train accuracy: {mod.score(X_train_2, y_train_2)}')\n",
    "    print(f'Test accuracy: {mod.score(X_test_2, y_test_2)}')\n",
    "    print(f'Precision: {precision_score(y_test_2, predictions)}')\n",
    "    print(f'Recall: {recall_score(y_test_2, predictions)}')\n",
    "    print()\n",
    "    print(classification_report(y_test_2, predictions))\n",
    "    print()"
   ]
  },
  {
   "cell_type": "markdown",
   "metadata": {},
   "source": [
    "#### Decision Tree"
   ]
  },
  {
   "cell_type": "code",
   "execution_count": 9,
   "metadata": {},
   "outputs": [],
   "source": [
    "models = [\n",
    "    {\n",
    "        'label': 'Logistic Regression',\n",
    "        'model': LogisticRegression(),\n",
    "    },\n",
    "    {\n",
    "        'label': 'Gradient Boosting',\n",
    "        'model': GradientBoostingClassifier(),\n",
    "    },\n",
    "    {\n",
    "        'label': 'Random Forest',\n",
    "        'model': RandomForestClassifier(),\n",
    "    },\n",
    "    {\n",
    "        'label': 'AdaBoost Classifier',\n",
    "        'model': AdaBoostClassifier(),\n",
    "    },\n",
    "    {\n",
    "        'label': 'Support Vector Classifier',\n",
    "        'model': SVC(probability=True),\n",
    "    },\n",
    "    {   'label': 'Naive Bayes',\n",
    "        'model': GaussianNB()\n",
    "    }\n",
    "]\n",
    "\n",
    "def evaluate_models(model_types: list):\n",
    "    for i in range(len(model_types)):\n",
    "        model = model_types[i]['model']\n",
    "        print(f'*CURRENT MODEL: {model_types[i][\"label\"].upper()}*')\n",
    "        quick_test_a_few_times(model, X_train_2, y_train_2)\n",
    "        get_scores(model)\n",
    "        print()"
   ]
  },
  {
   "cell_type": "code",
   "execution_count": 10,
   "metadata": {},
   "outputs": [
    {
     "name": "stdout",
     "output_type": "stream",
     "text": [
      "*CURRENT MODEL: LOGISTIC REGRESSION*\n",
      "Train accuracy: 0.7719950433705081\n",
      "Test accuracy: 0.768650461022632\n",
      "Precision: 0.7490196078431373\n",
      "Recall: 0.8045492839090144\n",
      "\n",
      "              precision    recall  f1-score   support\n",
      "\n",
      "           0       0.79      0.73      0.76      1199\n",
      "           1       0.75      0.80      0.78      1187\n",
      "\n",
      "   micro avg       0.77      0.77      0.77      2386\n",
      "   macro avg       0.77      0.77      0.77      2386\n",
      "weighted avg       0.77      0.77      0.77      2386\n",
      "\n",
      "\n",
      "\n",
      "*CURRENT MODEL: GRADIENT BOOSTING*\n",
      "Train accuracy: 0.8764973151590252\n",
      "Test accuracy: 0.856663872590109\n",
      "Precision: 0.8645383951682485\n",
      "Recall: 0.8441449031171019\n",
      "\n",
      "              precision    recall  f1-score   support\n",
      "\n",
      "           0       0.85      0.87      0.86      1199\n",
      "           1       0.86      0.84      0.85      1187\n",
      "\n",
      "   micro avg       0.86      0.86      0.86      2386\n",
      "   macro avg       0.86      0.86      0.86      2386\n",
      "weighted avg       0.86      0.86      0.86      2386\n",
      "\n",
      "\n",
      "\n",
      "*CURRENT MODEL: RANDOM FOREST*\n",
      "Train accuracy: 0.9884345311854605\n",
      "Test accuracy: 0.8407376362112322\n",
      "Precision: 0.871889400921659\n",
      "Recall: 0.7969671440606572\n",
      "\n",
      "              precision    recall  f1-score   support\n",
      "\n",
      "           0       0.81      0.88      0.85      1199\n",
      "           1       0.87      0.80      0.83      1187\n",
      "\n",
      "   micro avg       0.84      0.84      0.84      2386\n",
      "   macro avg       0.84      0.84      0.84      2386\n",
      "weighted avg       0.84      0.84      0.84      2386\n",
      "\n",
      "\n",
      "\n",
      "*CURRENT MODEL: ADABOOST CLASSIFIER*\n",
      "Train accuracy: 0.8597686906237092\n",
      "Test accuracy: 0.8365465213746857\n",
      "Precision: 0.8379983036471587\n",
      "Recall: 0.8323504633529908\n",
      "\n",
      "              precision    recall  f1-score   support\n",
      "\n",
      "           0       0.84      0.84      0.84      1199\n",
      "           1       0.84      0.83      0.84      1187\n",
      "\n",
      "   micro avg       0.84      0.84      0.84      2386\n",
      "   macro avg       0.84      0.84      0.84      2386\n",
      "weighted avg       0.84      0.84      0.84      2386\n",
      "\n",
      "\n",
      "\n",
      "*CURRENT MODEL: SUPPORT VECTOR CLASSIFIER*\n",
      "Train accuracy: 0.9603469640644362\n",
      "Test accuracy: 0.769907795473596\n",
      "Precision: 0.8127450980392157\n",
      "Recall: 0.6983993260320135\n",
      "\n",
      "              precision    recall  f1-score   support\n",
      "\n",
      "           0       0.74      0.84      0.79      1199\n",
      "           1       0.81      0.70      0.75      1187\n",
      "\n",
      "   micro avg       0.77      0.77      0.77      2386\n",
      "   macro avg       0.78      0.77      0.77      2386\n",
      "weighted avg       0.78      0.77      0.77      2386\n",
      "\n",
      "\n",
      "\n",
      "*CURRENT MODEL: NAIVE BAYES*\n",
      "Train accuracy: 0.7662123089632383\n",
      "Test accuracy: 0.7623637887678122\n",
      "Precision: 0.7395672333848532\n",
      "Recall: 0.806234203875316\n",
      "\n",
      "              precision    recall  f1-score   support\n",
      "\n",
      "           0       0.79      0.72      0.75      1199\n",
      "           1       0.74      0.81      0.77      1187\n",
      "\n",
      "   micro avg       0.76      0.76      0.76      2386\n",
      "   macro avg       0.76      0.76      0.76      2386\n",
      "weighted avg       0.76      0.76      0.76      2386\n",
      "\n",
      "\n",
      "\n"
     ]
    }
   ],
   "source": [
    "evaluate_models(models)"
   ]
  },
  {
   "cell_type": "markdown",
   "metadata": {},
   "source": [
    "### Adding in pipeline"
   ]
  },
  {
   "cell_type": "code",
   "execution_count": 11,
   "metadata": {},
   "outputs": [
    {
     "data": {
      "text/plain": [
       "Train Acc    0.869017\n",
       "Test Acc     0.828906\n",
       "dtype: float64"
      ]
     },
     "execution_count": 11,
     "metadata": {},
     "output_type": "execute_result"
    }
   ],
   "source": [
    "model = make_pipeline(StandardScaler(), SVC())\n",
    "model.fit(X_train_2, y_train_2)\n",
    "pred = model.predict(X_test_2)\n",
    "\n",
    "quick_test_a_few_times(model, X_train_2, y_train_2)"
   ]
  },
  {
   "cell_type": "code",
   "execution_count": 12,
   "metadata": {},
   "outputs": [
    {
     "data": {
      "text/plain": [
       "Train Acc    0.870198\n",
       "Test Acc     0.830557\n",
       "dtype: float64"
      ]
     },
     "execution_count": 12,
     "metadata": {},
     "output_type": "execute_result"
    }
   ],
   "source": [
    "model = make_pipeline(StandardScaler(), SVC(kernel='rbf'))\n",
    "model.fit(X_train_2, y_train_2)\n",
    "pred = model.predict(X_test_2)\n",
    "\n",
    "quick_test_a_few_times(model, X_train_2, y_train_2)"
   ]
  },
  {
   "cell_type": "code",
   "execution_count": 13,
   "metadata": {},
   "outputs": [],
   "source": [
    "decisiontree = DecisionTreeClassifier()\n",
    "decisiontree.fit(X_train_2, y_train_2)\n",
    "\n",
    "\n",
    "list_of_coeffs = list(sorted(zip(coeffs, X.columns)))"
   ]
  },
  {
   "cell_type": "code",
   "execution_count": 15,
   "metadata": {},
   "outputs": [
    {
     "name": "stdout",
     "output_type": "stream",
     "text": [
      "[(0.00011409167831465742, 'internet_service-no'),\n",
      " (0.0070477030126001134, 'streaming_tv'),\n",
      " (0.009140282540468387, 'payment_method-mailed_check'),\n",
      " (0.009511174834388798, 'online_backup'),\n",
      " (0.01088734377110451, 'payment_method-credit_card_auto'),\n",
      " (0.011803944826487433, 'senior'),\n",
      " (0.012952902445072762, 'multiple_lines'),\n",
      " (0.013816092307929944, 'device_protection'),\n",
      " (0.014483528086444118, 'tech_support'),\n",
      " (0.015474802991514084, 'partner'),\n",
      " (0.015518586711943092, 'dependents'),\n",
      " (0.017390934667237797, 'phone_service'),\n",
      " (0.01834613024102332, 'gender'),\n",
      " (0.023091128861675417, 'online_security'),\n",
      " (0.02425285441321493, 'paperless_billing'),\n",
      " (0.024539934541962384, 'streaming_movies'),\n",
      " (0.028714551564667776, 'contract-two_year'),\n",
      " (0.03390283986254155, 'contract-one_year'),\n",
      " (0.056400467013065954, 'internet_service-fiber_optic'),\n",
      " (0.07390721929082611, 'avg_monthly_charges'),\n",
      " (0.08669916169832582, 'total_charges'),\n",
      " (0.09532597012994744, 'monthly_charges'),\n",
      " (0.13410722104843845, 'tenure'),\n",
      " (0.2625711334608051, 'payment_method-electronic_check')]\n"
     ]
    }
   ],
   "source": [
    "coeffs = decisiontree.feature_importances_ # it's a percentage\n",
    "list_of_coeffs = list(sorted(zip(coeffs, X.columns)))\n",
    "pprint.pprint(list_of_coeffs)"
   ]
  },
  {
   "cell_type": "code",
   "execution_count": 16,
   "metadata": {},
   "outputs": [
    {
     "data": {
      "text/plain": [
       "0.699607785690208"
      ]
     },
     "execution_count": 16,
     "metadata": {},
     "output_type": "execute_result"
    }
   ],
   "source": [
    "grad_boost = GradientBoostingClassifier()\n",
    "grad_boost.fit(X_train_2, y_train_2)\n",
    "grad_boost.feature_importances_ # values are between 0 and 1, not normalized\n",
    "grad_boost.train_score_.mean()"
   ]
  },
  {
   "cell_type": "code",
   "execution_count": 17,
   "metadata": {},
   "outputs": [
    {
     "data": {
      "text/plain": [
       "array([[-4.61187417e-02,  3.41732629e-01,  1.17480079e-01,\n",
       "        -2.69555435e-02, -6.41389197e-02, -2.49526367e-01,\n",
       "        -2.08208756e-01, -7.90193098e-02, -8.53672254e-02,\n",
       "         2.72582678e-01, -5.25869091e-01,  2.38690015e-02,\n",
       "         1.88559323e-02,  2.45614646e-01,  2.58768378e-02,\n",
       "         3.80854438e-04, -1.66841876e-02,  1.70509579e-01,\n",
       "        -1.27082613e-01, -3.35982684e-01, -4.75978620e-01,\n",
       "        -2.53463480e-02,  2.81033599e-01,  1.37378447e-01]])"
      ]
     },
     "execution_count": 17,
     "metadata": {},
     "output_type": "execute_result"
    }
   ],
   "source": [
    "s2 = LinearSVC()\n",
    "s2.fit(X_train, y_train)\n",
    "s2.coef_ # the absolute value dictates importance"
   ]
  },
  {
   "cell_type": "code",
   "execution_count": 18,
   "metadata": {},
   "outputs": [
    {
     "data": {
      "text/plain": [
       "array([[ 2.70983933e-02,  2.29004525e-01, -1.04343483e-02,\n",
       "        -1.29322562e-01, -5.84181402e-02, -8.23507285e-01,\n",
       "         1.51325398e-01, -3.70924959e-01, -1.95309497e-01,\n",
       "        -9.19639255e-02, -4.37649332e-01,  1.17793406e-01,\n",
       "         9.71035779e-02,  3.10782060e-01,  1.36523149e-02,\n",
       "         3.05380518e-04, -4.32824229e-03,  4.95912607e-01,\n",
       "        -5.21965575e-01, -5.14334058e-01, -1.16541230e+00,\n",
       "        -6.50248741e-02,  3.97459306e-01,  2.76695361e-02]])"
      ]
     },
     "execution_count": 18,
     "metadata": {},
     "output_type": "execute_result"
    }
   ],
   "source": [
    "log_reg = LogisticRegression()\n",
    "log_reg.fit(X_train, y_train)\n",
    "log_reg.coef_ # the abosulute value dictates importance"
   ]
  },
  {
   "cell_type": "markdown",
   "metadata": {},
   "source": [
    "### ROC Curve"
   ]
  },
  {
   "cell_type": "code",
   "execution_count": 19,
   "metadata": {},
   "outputs": [
    {
     "data": {
      "image/png": "[encoded data removed]",
      "text/plain": [
       "<Figure size 576x576 with 1 Axes>"
      ]
     },
     "metadata": {
      "needs_background": "light"
     },
     "output_type": "display_data"
    }
   ],
   "source": [
    "plt.figure(figsize=(8, 8))\n",
    "\n",
    "# Iterate through the list of models\n",
    "for m in models:\n",
    "    model = m['model']  # select the model\n",
    "    model.fit(X_train_res, y_train_res)  # train the model\n",
    "    y_pred = model.predict(X_test)  # predict the test data\n",
    "    # Compute False postive rate, and True positive rate\n",
    "    fpr, tpr, thresholds = roc_curve(y_test, model.predict_proba(X_test)[:, 1])\n",
    "    # Calculate Area under the curve to display on the plot\n",
    "    auc = roc_auc_score(y_test, model.predict(X_test))\n",
    "    # Now, plot the computed values\n",
    "    plt.plot(fpr, tpr, label='%s ROC (area = %0.2f)' % (m['label'], auc))\n",
    "# Custom settings for the plot \n",
    "# plt.plot([0, 1], [0, 1],'r--')\n",
    "plt.xlim([0.0, 1.0])\n",
    "plt.ylim([0.0, 1.05])\n",
    "plt.xlabel('Specificity(False Positive Rate)', fontsize=12, labelpad=10)\n",
    "plt.ylabel('Sensitivity(True Positive Rate)', fontsize=12, labelpad=10)\n",
    "plt.title('Receiver Operating Characteristic (ROC) Curve', fontsize=12)\n",
    "plt.legend(loc=\"lower right\")\n",
    "plt.show()\n",
    "# plt.savefig('visualizations/ROC_curve.png', dpi=300)\n"
   ]
  },
  {
   "cell_type": "code",
   "execution_count": 20,
   "metadata": {},
   "outputs": [
    {
     "data": {
      "image/png": "[encoded data removed]",
      "text/plain": [
       "<Figure size 576x576 with 1 Axes>"
      ]
     },
     "metadata": {
      "needs_background": "light"
     },
     "output_type": "display_data"
    }
   ],
   "source": [
    "plt.figure(figsize=(8,8))\n",
    "\n",
    "# Add the models to the list that you want to view on the ROC plot\n",
    "models = [\n",
    "{\n",
    "    'label': 'Logistic Regression',\n",
    "    'model': make_pipeline(StandardScaler(), LogisticRegression())\n",
    "},\n",
    "{\n",
    "    'label': 'Gradient Boosting',\n",
    "    'model': GradientBoostingClassifier(),\n",
    "},\n",
    "{\n",
    "    'label': 'Random Forest',\n",
    "    'model': RandomForestClassifier(),\n",
    "},\n",
    "{\n",
    "    'label': 'AdaBoost Classifier',\n",
    "    'model': AdaBoostClassifier(),\n",
    "},\n",
    "{\n",
    "    'label': 'Support Vector Classifier',\n",
    "    'model': SVC(probability=True),\n",
    "},\n",
    "{\n",
    "    'label': 'Naive Bayes',\n",
    "    'model': GaussianNB(),\n",
    "}\n",
    "]\n",
    "\n",
    "# Below for loop iterates through your models list\n",
    "for m in models:\n",
    "    model = m['model'] # select the model\n",
    "    model.fit(X_train_2, y_train_2) # train the model\n",
    "    y_pred=model.predict(X_test_2) # predict the test data\n",
    "# Compute False postive rate, and True positive rate\n",
    "    fpr, tpr, thresholds = roc_curve(y_test_2, model.predict_proba(X_test_2)[:,1])\n",
    "# Calculate Area under the curve to display on the plot\n",
    "    auc = roc_auc_score(y_test_2,model.predict(X_test_2))\n",
    "# Now, plot the computed values\n",
    "    plt.plot(fpr, tpr, label='%s ROC (area = %0.2f)' % (m['label'], auc))\n",
    "# Custom settings for the plot \n",
    "plt.plot([0, 1], [0, 1],'r--')\n",
    "plt.xlim([0.0, 1.0])\n",
    "plt.ylim([0.0, 1.05])\n",
    "plt.xlabel('1-Specificity(False Positive Rate)')\n",
    "plt.ylabel('Sensitivity(True Positive Rate)')\n",
    "plt.title('Receiver Operating Characteristic (ROC) Curve')\n",
    "plt.legend(loc=\"lower right\")\n",
    "plt.show()\n",
    "# plt.savefig('visualizations/ROC_curve.png')"
   ]
  },
  {
   "cell_type": "code",
   "execution_count": 21,
   "metadata": {},
   "outputs": [],
   "source": [
    "param_grid = {'C': [0.1, 10.]}\n",
    "\n",
    "clf = make_pipeline(StandardScaler(), \n",
    "                    GridSearchCV(LogisticRegression(),\n",
    "                                 param_grid=param_grid,\n",
    "                                 cv=2,\n",
    "                                 refit=True))\n",
    "\n",
    "clf.fit(X_train, y_train)\n",
    "pred = clf.predict(X_test)"
   ]
  },
  {
   "cell_type": "code",
   "execution_count": 22,
   "metadata": {},
   "outputs": [
    {
     "data": {
      "text/plain": [
       "dict_keys(['C', 'class_weight', 'dual', 'fit_intercept', 'intercept_scaling', 'max_iter', 'multi_class', 'n_jobs', 'penalty', 'random_state', 'solver', 'tol', 'verbose', 'warm_start'])"
      ]
     },
     "execution_count": 22,
     "metadata": {},
     "output_type": "execute_result"
    }
   ],
   "source": [
    "LogisticRegression().get_params().keys()"
   ]
  },
  {
   "cell_type": "code",
   "execution_count": 23,
   "metadata": {},
   "outputs": [
    {
     "name": "stdout",
     "output_type": "stream",
     "text": [
      "              precision    recall  f1-score   support\n",
      "\n",
      "           0       0.86      0.90      0.88      1549\n",
      "           1       0.67      0.59      0.63       561\n",
      "\n",
      "   micro avg       0.81      0.81      0.81      2110\n",
      "   macro avg       0.76      0.74      0.75      2110\n",
      "weighted avg       0.81      0.81      0.81      2110\n",
      "\n"
     ]
    }
   ],
   "source": [
    "print(classification_report(y_test, pred))"
   ]
  },
  {
   "cell_type": "code",
   "execution_count": 24,
   "metadata": {},
   "outputs": [
    {
     "data": {
      "text/plain": [
       "0    5163\n",
       "1    1869\n",
       "Name: churn, dtype: int64"
      ]
     },
     "execution_count": 24,
     "metadata": {},
     "output_type": "execute_result"
    }
   ],
   "source": [
    "df['churn'].value_counts()"
   ]
  },
  {
   "cell_type": "code",
   "execution_count": 26,
   "metadata": {},
   "outputs": [],
   "source": [
    "clf = make_pipeline(StandardScaler(), \n",
    "                    GridSearchCV(LogisticRegression(),\n",
    "                                 param_grid={'C': [0.1, 1.0, 10.]},\n",
    "                                 cv=3,\n",
    "                                 refit=True))"
   ]
  },
  {
   "cell_type": "code",
   "execution_count": 27,
   "metadata": {},
   "outputs": [
    {
     "data": {
      "text/plain": [
       "Pipeline(memory=None,\n",
       "     steps=[('standardscaler', StandardScaler(copy=True, with_mean=True, with_std=True)), ('gridsearchcv', GridSearchCV(cv=3, error_score='raise-deprecating',\n",
       "       estimator=LogisticRegression(C=1.0, class_weight=None, dual=False, fit_intercept=True,\n",
       "          intercept_scaling=1, max_iter=100, multi_c...}, pre_dispatch='2*n_jobs',\n",
       "       refit=True, return_train_score='warn', scoring=None, verbose=0))])"
      ]
     },
     "execution_count": 27,
     "metadata": {},
     "output_type": "execute_result"
    }
   ],
   "source": [
    "clf.fit(X_train, y_train)"
   ]
  },
  {
   "cell_type": "code",
   "execution_count": 28,
   "metadata": {},
   "outputs": [],
   "source": [
    "new_x = pd.DataFrame(X_train)"
   ]
  },
  {
   "cell_type": "code",
   "execution_count": 29,
   "metadata": {},
   "outputs": [
    {
     "data": {
      "text/plain": [
       "(4922, 24)"
      ]
     },
     "execution_count": 29,
     "metadata": {},
     "output_type": "execute_result"
    }
   ],
   "source": [
    "new_x.shape"
   ]
  },
  {
   "cell_type": "code",
   "execution_count": 30,
   "metadata": {},
   "outputs": [
    {
     "data": {
      "text/plain": [
       "Pipeline(memory=None,\n",
       "     steps=[('standardscaler', StandardScaler(copy=True, with_mean=True, with_std=True)), ('gridsearchcv', GridSearchCV(cv=3, error_score='raise-deprecating',\n",
       "       estimator=LogisticRegression(C=1.0, class_weight=None, dual=False, fit_intercept=True,\n",
       "          intercept_scaling=1, max_iter=100, multi_c...}, pre_dispatch='2*n_jobs',\n",
       "       refit=True, return_train_score='warn', scoring=None, verbose=0))])"
      ]
     },
     "execution_count": 30,
     "metadata": {},
     "output_type": "execute_result"
    }
   ],
   "source": [
    "clf.fit(X_train, y_train)"
   ]
  },
  {
   "cell_type": "code",
   "execution_count": 31,
   "metadata": {},
   "outputs": [],
   "source": [
    "new = clf.predict(new_x)"
   ]
  },
  {
   "cell_type": "code",
   "execution_count": 33,
   "metadata": {},
   "outputs": [
    {
     "name": "stdout",
     "output_type": "stream",
     "text": [
      "              precision    recall  f1-score   support\n",
      "\n",
      "           0       0.84      0.90      0.87      3614\n",
      "           1       0.65      0.53      0.59      1308\n",
      "\n",
      "   micro avg       0.80      0.80      0.80      4922\n",
      "   macro avg       0.75      0.72      0.73      4922\n",
      "weighted avg       0.79      0.80      0.79      4922\n",
      "\n"
     ]
    }
   ],
   "source": [
    "print(classification_report(y_train, new))"
   ]
  },
  {
   "cell_type": "markdown",
   "metadata": {},
   "source": [
    "### Logistic Regression Tuning"
   ]
  },
  {
   "cell_type": "code",
   "execution_count": 34,
   "metadata": {},
   "outputs": [
    {
     "data": {
      "text/plain": [
       "GridSearchCV(cv=5, error_score='raise-deprecating',\n",
       "       estimator=Pipeline(memory=None,\n",
       "     steps=[('scaler', StandardScaler(copy=True, with_mean=True, with_std=True)), ('clf', LogisticRegression(C=1.0, class_weight=None, dual=False, fit_intercept=True,\n",
       "          intercept_scaling=1, max_iter=100, multi_class='warn',\n",
       "          n_jobs=None, penalty='l2', random_state=None, solver='warn',\n",
       "          tol=0.0001, verbose=0, warm_start=False))]),\n",
       "       fit_params=None, iid='warn', n_jobs=None,\n",
       "       param_grid=[{'clf__C': [0.8, 1, 1.1, 1.2, 1.3, 1.5, 1.6], 'clf__class_weight': [None, 'balanced'], 'clf__solver': ['liblinear', 'sag', 'saga']}],\n",
       "       pre_dispatch='2*n_jobs', refit=True, return_train_score='warn',\n",
       "       scoring='recall', verbose=0)"
      ]
     },
     "execution_count": 34,
     "metadata": {},
     "output_type": "execute_result"
    }
   ],
   "source": [
    "pipe = Pipeline([('scaler', StandardScaler()), ('clf', LogisticRegression())])\n",
    "param_grid = [{'clf__C': [0.8, 1, 1.1, 1.2, 1.3, 1.5, 1.6], 'clf__class_weight': [None, 'balanced'],\n",
    "               'clf__solver': ['liblinear', 'sag', 'saga']}]\n",
    "gs = GridSearchCV(pipe, param_grid, cv=5, scoring='recall')\n",
    "gs.fit(X_train_res, y_train_res)\n"
   ]
  },
  {
   "cell_type": "code",
   "execution_count": 35,
   "metadata": {},
   "outputs": [
    {
     "data": {
      "text/plain": [
       "{'clf__C': 1.5, 'clf__class_weight': None, 'clf__solver': 'liblinear'}"
      ]
     },
     "execution_count": 35,
     "metadata": {},
     "output_type": "execute_result"
    }
   ],
   "source": [
    "gs.best_params_"
   ]
  },
  {
   "cell_type": "code",
   "execution_count": 36,
   "metadata": {},
   "outputs": [],
   "source": [
    "pred = gs.predict(X_test)"
   ]
  },
  {
   "cell_type": "code",
   "execution_count": 37,
   "metadata": {},
   "outputs": [
    {
     "name": "stdout",
     "output_type": "stream",
     "text": [
      "              precision    recall  f1-score   support\n",
      "\n",
      "           0       0.92      0.72      0.81      1549\n",
      "           1       0.52      0.83      0.64       561\n",
      "\n",
      "   micro avg       0.75      0.75      0.75      2110\n",
      "   macro avg       0.72      0.78      0.72      2110\n",
      "weighted avg       0.82      0.75      0.76      2110\n",
      "\n"
     ]
    }
   ],
   "source": [
    "print(classification_report(y_test, pred))"
   ]
  },
  {
   "cell_type": "code",
   "execution_count": 38,
   "metadata": {},
   "outputs": [
    {
     "name": "stdout",
     "output_type": "stream",
     "text": [
      "[[1113  436]\n",
      " [  93  468]]\n"
     ]
    }
   ],
   "source": [
    "print(confusion_matrix(y_test, pred))"
   ]
  },
  {
   "cell_type": "code",
   "execution_count": null,
   "metadata": {},
   "outputs": [],
   "source": []
  },
  {
   "cell_type": "code",
   "execution_count": 39,
   "metadata": {},
   "outputs": [
    {
     "data": {
      "text/plain": [
       "0.813503043718871"
      ]
     },
     "execution_count": 39,
     "metadata": {},
     "output_type": "execute_result"
    }
   ],
   "source": [
    "np.median(gs.cv_results_['mean_test_score'])"
   ]
  },
  {
   "cell_type": "code",
   "execution_count": 40,
   "metadata": {},
   "outputs": [],
   "source": [
    "pred = gs.predict(X_train)"
   ]
  },
  {
   "cell_type": "code",
   "execution_count": 41,
   "metadata": {},
   "outputs": [
    {
     "name": "stdout",
     "output_type": "stream",
     "text": [
      "              precision    recall  f1-score   support\n",
      "\n",
      "           0       0.91      0.73      0.81      3614\n",
      "           1       0.52      0.81      0.63      1308\n",
      "\n",
      "   micro avg       0.75      0.75      0.75      4922\n",
      "   macro avg       0.72      0.77      0.72      4922\n",
      "weighted avg       0.81      0.75      0.76      4922\n",
      "\n",
      "[[2621  993]\n",
      " [ 246 1062]]\n"
     ]
    }
   ],
   "source": [
    "print(classification_report(y_train, pred))\n",
    "print(confusion_matrix(y_train, pred))"
   ]
  },
  {
   "cell_type": "code",
   "execution_count": 42,
   "metadata": {},
   "outputs": [
    {
     "data": {
      "text/plain": [
       "(4922,)"
      ]
     },
     "execution_count": 42,
     "metadata": {},
     "output_type": "execute_result"
    }
   ],
   "source": [
    "pred.shape"
   ]
  },
  {
   "cell_type": "code",
   "execution_count": 43,
   "metadata": {},
   "outputs": [
    {
     "name": "stdout",
     "output_type": "stream",
     "text": [
      "Max net gain = 268500\n"
     ]
    }
   ],
   "source": [
    "logistic_gain_2 = []\n",
    "i_vals = []\n",
    "cost = []\n",
    "savings = []\n",
    "i = .01\n",
    "\n",
    "pred = gs.predict(X_train)\n",
    "\n",
    "for i in np.linspace(0, 1, 101):\n",
    "    folds = KFold(n_splits=5, shuffle=True)\n",
    "    probs = cross_val_predict(gs.best_estimator_, X_train, y_train, cv=folds, method='predict_proba', n_jobs=-1)\n",
    "    probs = pd.DataFrame(probs)\n",
    "    new_pred = probs[1].apply(lambda x: 1 if x > i else 0)\n",
    "    conf = confusion_matrix(y_train, new_pred)\n",
    "\n",
    "    total_cost = (conf[0][1] * 100) + (conf[1][1] * 100) + (conf[1][0] * 500)\n",
    "    total_savings = conf[1][1] * 500\n",
    "\n",
    "    net_gain = total_savings - total_cost\n",
    "    logistic_gain_2.append(net_gain)\n",
    "    i_vals.append(i)\n",
    "    cost.append(total_cost)\n",
    "    savings.append(total_savings)\n",
    "\n",
    "print(f'Max net gain = {max(logistic_gain_2)}')\n"
   ]
  },
  {
   "cell_type": "markdown",
   "metadata": {},
   "source": [
    "### Logistic Regression Tuning"
   ]
  },
  {
   "cell_type": "code",
   "execution_count": 44,
   "metadata": {},
   "outputs": [
    {
     "data": {
      "text/plain": [
       "GridSearchCV(cv=5, error_score='raise-deprecating',\n",
       "       estimator=Pipeline(memory=None,\n",
       "     steps=[('scaler', StandardScaler(copy=True, with_mean=True, with_std=True)), ('clf', LogisticRegression(C=1.0, class_weight=None, dual=False, fit_intercept=True,\n",
       "          intercept_scaling=1, max_iter=100, multi_class='warn',\n",
       "          n_jobs=None, penalty='l2', random_state=11, solver='warn',\n",
       "          tol=0.0001, verbose=0, warm_start=False))]),\n",
       "       fit_params=None, iid='warn', n_jobs=-1,\n",
       "       param_grid=[{'clf__C': [0.001, 0.1, 1.0], 'clf__solver': ['newton-cg', 'lbfgs', 'liblinear', 'sag', 'saga']}],\n",
       "       pre_dispatch='2*n_jobs', refit=True, return_train_score='warn',\n",
       "       scoring='recall', verbose=0)"
      ]
     },
     "execution_count": 44,
     "metadata": {},
     "output_type": "execute_result"
    }
   ],
   "source": [
    "pipe = Pipeline([('scaler', StandardScaler()), ('clf', LogisticRegression(random_state=11))])\n",
    "param_grid = [{'clf__C': [0.001, 0.1, 1.0], 'clf__solver': ['newton-cg', 'lbfgs', 'liblinear', 'sag', 'saga']}]\n",
    "gs = GridSearchCV(pipe, param_grid, cv=5, n_jobs=-1, scoring='recall')\n",
    "gs.fit(X_train_res, y_train_res)\n"
   ]
  },
  {
   "cell_type": "code",
   "execution_count": 45,
   "metadata": {},
   "outputs": [
    {
     "data": {
      "text/plain": [
       "{'clf__C': 1.0, 'clf__solver': 'newton-cg'}"
      ]
     },
     "execution_count": 45,
     "metadata": {},
     "output_type": "execute_result"
    }
   ],
   "source": [
    "gs.best_params_"
   ]
  },
  {
   "cell_type": "code",
   "execution_count": 46,
   "metadata": {},
   "outputs": [
    {
     "data": {
      "text/plain": [
       "0.8084532385286909"
      ]
     },
     "execution_count": 46,
     "metadata": {},
     "output_type": "execute_result"
    }
   ],
   "source": [
    "np.median(gs.cv_results_['mean_train_score'])"
   ]
  },
  {
   "cell_type": "code",
   "execution_count": 47,
   "metadata": {},
   "outputs": [],
   "source": [
    "pred = gs.predict(X_train)"
   ]
  },
  {
   "cell_type": "code",
   "execution_count": 48,
   "metadata": {},
   "outputs": [
    {
     "name": "stdout",
     "output_type": "stream",
     "text": [
      "              precision    recall  f1-score   support\n",
      "\n",
      "           0       0.91      0.72      0.81      3614\n",
      "           1       0.52      0.81      0.63      1308\n",
      "\n",
      "   micro avg       0.75      0.75      0.75      4922\n",
      "   macro avg       0.71      0.77      0.72      4922\n",
      "weighted avg       0.81      0.75      0.76      4922\n",
      "\n",
      "[[2619  995]\n",
      " [ 247 1061]]\n"
     ]
    }
   ],
   "source": [
    "print(classification_report(y_train, pred))\n",
    "print(confusion_matrix(y_train, pred))"
   ]
  },
  {
   "cell_type": "code",
   "execution_count": 49,
   "metadata": {},
   "outputs": [
    {
     "data": {
      "text/plain": [
       "array([0.  , 0.01, 0.02, 0.03, 0.04, 0.05, 0.06, 0.07, 0.08, 0.09, 0.1 ,\n",
       "       0.11, 0.12, 0.13, 0.14, 0.15, 0.16, 0.17, 0.18, 0.19, 0.2 , 0.21,\n",
       "       0.22, 0.23, 0.24, 0.25, 0.26, 0.27, 0.28, 0.29, 0.3 , 0.31, 0.32,\n",
       "       0.33, 0.34, 0.35, 0.36, 0.37, 0.38, 0.39, 0.4 , 0.41, 0.42, 0.43,\n",
       "       0.44, 0.45, 0.46, 0.47, 0.48, 0.49, 0.5 , 0.51, 0.52, 0.53, 0.54,\n",
       "       0.55, 0.56, 0.57, 0.58, 0.59, 0.6 , 0.61, 0.62, 0.63, 0.64, 0.65,\n",
       "       0.66, 0.67, 0.68, 0.69, 0.7 , 0.71, 0.72, 0.73, 0.74, 0.75, 0.76,\n",
       "       0.77, 0.78, 0.79, 0.8 , 0.81, 0.82, 0.83, 0.84, 0.85, 0.86, 0.87,\n",
       "       0.88, 0.89, 0.9 , 0.91, 0.92, 0.93, 0.94, 0.95, 0.96, 0.97, 0.98,\n",
       "       0.99, 1.  ])"
      ]
     },
     "execution_count": 49,
     "metadata": {},
     "output_type": "execute_result"
    }
   ],
   "source": [
    "np.linspace(0, 1, 101)"
   ]
  },
  {
   "cell_type": "markdown",
   "metadata": {},
   "source": [
    "**This is our winning model**"
   ]
  },
  {
   "cell_type": "code",
   "execution_count": 50,
   "metadata": {},
   "outputs": [
    {
     "name": "stdout",
     "output_type": "stream",
     "text": [
      "Max net gain = 268700\n"
     ]
    }
   ],
   "source": [
    "logistic_gain = []\n",
    "i_vals = []\n",
    "cost = []\n",
    "savings = []\n",
    "i = .01\n",
    "\n",
    "pred = gs.predict(X_train)\n",
    "\n",
    "for i in np.linspace(0, 1, 101):\n",
    "    folds = KFold(n_splits=5, shuffle=True)\n",
    "    probs = cross_val_predict(gs.best_estimator_, X_train, y_train, cv=folds, method='predict_proba', n_jobs=-1)\n",
    "    probs = pd.DataFrame(probs)\n",
    "    new_pred = probs[1].apply(lambda x: 1 if x > i else 0)\n",
    "    conf = confusion_matrix(y_train, new_pred)\n",
    "\n",
    "    total_cost = (conf[0][1] * 100) + (conf[1][1] * 100) + (conf[1][0] * 500)\n",
    "    total_savings = conf[1][1] * 500\n",
    "\n",
    "    net_gain = total_savings - total_cost\n",
    "    logistic_gain.append(net_gain)\n",
    "    i_vals.append(i)\n",
    "    cost.append(total_cost)\n",
    "    savings.append(total_savings)\n",
    "\n",
    "print(f'Max net gain = {max(logistic_gain)}')\n"
   ]
  },
  {
   "cell_type": "code",
   "execution_count": 51,
   "metadata": {},
   "outputs": [],
   "source": [
    "for i, v in enumerate(logistic_gain):\n",
    "    if v == 272200:\n",
    "        print(i)"
   ]
  },
  {
   "cell_type": "code",
   "execution_count": 52,
   "metadata": {},
   "outputs": [
    {
     "name": "stdout",
     "output_type": "stream",
     "text": [
      "[[1718 1896]\n",
      " [  69 1239]]\n"
     ]
    }
   ],
   "source": [
    "probs = pd.DataFrame(gs.predict_proba(X_train))\n",
    "new_pred = probs[1].apply(lambda x: 1 if x > 0.22 else 0)\n",
    "conf = confusion_matrix(y_train, new_pred)\n",
    "print(conf)"
   ]
  },
  {
   "cell_type": "code",
   "execution_count": 53,
   "metadata": {},
   "outputs": [
    {
     "data": {
      "text/plain": [
       "<matplotlib.legend.Legend at 0x12150e2b0>"
      ]
     },
     "execution_count": 53,
     "metadata": {},
     "output_type": "execute_result"
    },
    {
     "data": {
      "image/png": "[encoded data removed]",
      "text/plain": [
       "<Figure size 576x432 with 1 Axes>"
      ]
     },
     "metadata": {
      "needs_background": "light"
     },
     "output_type": "display_data"
    }
   ],
   "source": [
    "fig, ax = plt.subplots(figsize=(8,6))\n",
    "plt.plot(i_vals, logistic_gain, label='Net Gain')\n",
    "plt.plot(i_vals, cost, label='Cost')\n",
    "plt.plot(i_vals,savings, label='Savings')\n",
    "plt.legend(loc=0)"
   ]
  },
  {
   "cell_type": "code",
   "execution_count": 54,
   "metadata": {},
   "outputs": [
    {
     "data": {
      "text/plain": [
       "<matplotlib.legend.Legend at 0x1152b4048>"
      ]
     },
     "execution_count": 54,
     "metadata": {},
     "output_type": "execute_result"
    },
    {
     "data": {
      "image/png": "[encoded data removed]",
      "text/plain": [
       "<Figure size 576x432 with 1 Axes>"
      ]
     },
     "metadata": {
      "needs_background": "light"
     },
     "output_type": "display_data"
    }
   ],
   "source": [
    "fig, ax = plt.subplots(figsize=(8,6))\n",
    "plt.plot(i_vals, logistic_gain, label='Net Gain')\n",
    "plt.plot(i_vals, cost, label='Cost')\n",
    "plt.plot(i_vals,savings, label='Savings')\n",
    "plt.legend(loc=0)"
   ]
  },
  {
   "cell_type": "markdown",
   "metadata": {},
   "source": [
    "**Calculating our total cost and total savings to get net gain:**"
   ]
  },
  {
   "cell_type": "code",
   "execution_count": 55,
   "metadata": {},
   "outputs": [],
   "source": [
    "conf = confusion_matrix(y_train, pred)"
   ]
  },
  {
   "cell_type": "code",
   "execution_count": 56,
   "metadata": {},
   "outputs": [],
   "source": [
    "total_cost = (conf[0][1] * 100) + (conf[1][1] * 100)\n",
    "total_savings = conf[1][1] * 500"
   ]
  },
  {
   "cell_type": "code",
   "execution_count": 57,
   "metadata": {},
   "outputs": [
    {
     "name": "stdout",
     "output_type": "stream",
     "text": [
      "324900\n"
     ]
    }
   ],
   "source": [
    "net_gain = total_savings - total_cost\n",
    "print(net_gain)"
   ]
  },
  {
   "cell_type": "code",
   "execution_count": 58,
   "metadata": {},
   "outputs": [
    {
     "data": {
      "text/plain": [
       "0.8111620795107034"
      ]
     },
     "execution_count": 58,
     "metadata": {},
     "output_type": "execute_result"
    }
   ],
   "source": [
    "gs.score(X_train, y_train)"
   ]
  },
  {
   "cell_type": "code",
   "execution_count": 59,
   "metadata": {},
   "outputs": [],
   "source": [
    "coeffs = gs.best_estimator_.named_steps['clf'].coef_[0]\n",
    "list_of_coeffs = list(sorted(zip(coeffs * 10, X.columns)))\n"
   ]
  },
  {
   "cell_type": "markdown",
   "metadata": {},
   "source": [
    "### Gradient Boosting Tuning"
   ]
  },
  {
   "cell_type": "code",
   "execution_count": 60,
   "metadata": {},
   "outputs": [
    {
     "data": {
      "text/plain": [
       "GridSearchCV(cv=5, error_score='raise-deprecating',\n",
       "       estimator=Pipeline(memory=None,\n",
       "     steps=[('scaler', StandardScaler(copy=True, with_mean=True, with_std=True)), ('clf', GradientBoostingClassifier(criterion='friedman_mse', init=None,\n",
       "              learning_rate=0.1, loss='deviance', max_depth=3,\n",
       "              max_features=None, max_leaf_nodes=None,\n",
       "              min_impurity_decreas...    subsample=1.0, tol=0.0001, validation_fraction=0.1,\n",
       "              verbose=0, warm_start=False))]),\n",
       "       fit_params=None, iid='warn', n_jobs=-1,\n",
       "       param_grid=[{'clf__learning_rate': [0.01, 0.1, 0.5, 1], 'clf__loss': ['deviance', 'exponential'], 'clf__n_estimators': [50, 100, 150], 'clf__max_depth': [2, 3, 4]}],\n",
       "       pre_dispatch='2*n_jobs', refit=True, return_train_score='warn',\n",
       "       scoring='recall', verbose=0)"
      ]
     },
     "execution_count": 60,
     "metadata": {},
     "output_type": "execute_result"
    }
   ],
   "source": [
    "pipe = Pipeline([('scaler', StandardScaler()), ('clf', GradientBoostingClassifier())])\n",
    "param_grid = [{'clf__learning_rate': [0.01, 0.1, 0.5, 1], 'clf__loss': ['deviance', 'exponential'],\n",
    "               'clf__n_estimators': [50, 100, 150], 'clf__max_depth': [2, 3, 4]}]\n",
    "gs = GridSearchCV(pipe, param_grid, cv=5, n_jobs=-1, scoring='recall')\n",
    "gs.fit(X_train_res, y_train_res)\n"
   ]
  },
  {
   "cell_type": "code",
   "execution_count": 61,
   "metadata": {},
   "outputs": [
    {
     "data": {
      "text/plain": [
       "{'clf__learning_rate': 0.1,\n",
       " 'clf__loss': 'exponential',\n",
       " 'clf__max_depth': 2,\n",
       " 'clf__n_estimators': 50}"
      ]
     },
     "execution_count": 61,
     "metadata": {},
     "output_type": "execute_result"
    }
   ],
   "source": [
    "gs.best_params_"
   ]
  },
  {
   "cell_type": "code",
   "execution_count": 62,
   "metadata": {},
   "outputs": [
    {
     "data": {
      "text/plain": [
       "0.8367459878251245"
      ]
     },
     "execution_count": 62,
     "metadata": {},
     "output_type": "execute_result"
    }
   ],
   "source": [
    "gs.best_score_"
   ]
  },
  {
   "cell_type": "code",
   "execution_count": 63,
   "metadata": {},
   "outputs": [
    {
     "data": {
      "text/plain": [
       "0.7966242390702822"
      ]
     },
     "execution_count": 63,
     "metadata": {},
     "output_type": "execute_result"
    }
   ],
   "source": [
    "np.median(gs.cv_results_['mean_test_score'])"
   ]
  },
  {
   "cell_type": "code",
   "execution_count": 64,
   "metadata": {},
   "outputs": [
    {
     "name": "stdout",
     "output_type": "stream",
     "text": [
      "              precision    recall  f1-score   support\n",
      "\n",
      "           0       0.88      0.82      0.85      3614\n",
      "           1       0.58      0.68      0.63      1308\n",
      "\n",
      "   micro avg       0.79      0.79      0.79      4922\n",
      "   macro avg       0.73      0.75      0.74      4922\n",
      "weighted avg       0.80      0.79      0.79      4922\n",
      "\n"
     ]
    }
   ],
   "source": [
    "pred2 = gs.predict(X_train)\n",
    "print(classification_report(y_train, pred2))"
   ]
  },
  {
   "cell_type": "code",
   "execution_count": 65,
   "metadata": {},
   "outputs": [
    {
     "ename": "SyntaxError",
     "evalue": "unexpected EOF while parsing (<ipython-input-65-7d31d402c54f>, line 2)",
     "output_type": "error",
     "traceback": [
      "\u001b[0;36m  File \u001b[0;32m\"<ipython-input-65-7d31d402c54f>\"\u001b[0;36m, line \u001b[0;32m2\u001b[0m\n\u001b[0;31m    print(classification_report\u001b[0m\n\u001b[0m                               ^\u001b[0m\n\u001b[0;31mSyntaxError\u001b[0m\u001b[0;31m:\u001b[0m unexpected EOF while parsing\n"
     ]
    }
   ],
   "source": [
    "pred2 = gs.predict(X_train)\n",
    "print(classification_report"
   ]
  },
  {
   "cell_type": "code",
   "execution_count": null,
   "metadata": {},
   "outputs": [],
   "source": [
    "fig, ax = plt.subplots(figsize=(8, 6))\n",
    "plt.plot(i_vals, gradboost_gain, label='Net Gain')\n",
    "plt.plot(i_vals, cost, label='Cost')\n",
    "plt.plot(i_vals, savings, label='Savings')\n",
    "plt.legend(loc=0)\n",
    "# plt.savefig('gradientboost_triple.svg')\n"
   ]
  },
  {
   "cell_type": "markdown",
   "metadata": {},
   "source": [
    "### AdaBoost Tuning"
   ]
  },
  {
   "cell_type": "code",
   "execution_count": null,
   "metadata": {},
   "outputs": [],
   "source": [
    "pipe = Pipeline([('scaler', StandardScaler()), ('clf', AdaBoostClassifier())])\n",
    "param_grid = [{'clf__learning_rate': [0.01, 0.1, 1], 'clf__algorithm': ['SAMME'], 'clf__n_estimators': [25, 50, 100]}]\n",
    "gs = GridSearchCV(pipe, param_grid, cv=5, n_jobs=-1, scoring='recall')\n",
    "gs.fit(X_train_res, y_train_res)\n"
   ]
  },
  {
   "cell_type": "code",
   "execution_count": null,
   "metadata": {},
   "outputs": [],
   "source": [
    "gs.best_params_"
   ]
  },
  {
   "cell_type": "code",
   "execution_count": null,
   "metadata": {},
   "outputs": [],
   "source": [
    "np.median(gs.cv_results_['mean_test_score'])"
   ]
  },
  {
   "cell_type": "code",
   "execution_count": null,
   "metadata": {},
   "outputs": [],
   "source": [
    "pred = gs.predict(X_train)\n",
    "print(classification_report(y_train, pred))"
   ]
  },
  {
   "cell_type": "code",
   "execution_count": null,
   "metadata": {},
   "outputs": [],
   "source": [
    "np.median(gs.cv_results_['mean_test_score'])"
   ]
  },
  {
   "cell_type": "code",
   "execution_count": null,
   "metadata": {},
   "outputs": [],
   "source": [
    "pred = gs.predict(X_train)\n",
    "print(classification_report(y_train, pred))"
   ]
  },
  {
   "cell_type": "code",
   "execution_count": null,
   "metadata": {},
   "outputs": [],
   "source": [
    "np.median(gs.cv_results_['mean_test_score'])"
   ]
  },
  {
   "cell_type": "code",
   "execution_count": null,
   "metadata": {},
   "outputs": [],
   "source": [
    "adaboost_gain = []\n",
    "i_vals = []\n",
    "cost = []\n",
    "savings = []\n",
    "\n",
    "pred = gs.predict(X_train)\n",
    "\n",
    "for i in np.linspace(0.0, 1.0, 101):\n",
    "    folds = KFold(n_splits=5, shuffle=True)\n",
    "    probs = cross_val_predict(gs.best_estimator_, X=X_train, y=y_train, cv=folds, method='predict_proba', n_jobs=-1)\n",
    "    probs = pd.DataFrame(probs)\n",
    "    #     probs = pd.DataFrame(gs.predict_proba(X_train))\n",
    "    new_pred = probs[1].apply(lambda x: 1 if x > i else 0)\n",
    "    conf = confusion_matrix(y_train, new_pred)\n",
    "\n",
    "    total_cost = (conf[0][1] * 100) + (conf[1][1] * 100) + conf[1][0] * 500\n",
    "    total_savings = conf[1][1] * 500\n",
    "\n",
    "    net_gain = total_savings - total_cost\n",
    "    adaboost_gain.append(net_gain)\n",
    "    i_vals.append(i)\n",
    "    cost.append(total_cost)\n",
    "    savings.append(total_savings)\n",
    "\n",
    "print(f'Max net gain = {max(adaboost_gain)}')\n"
   ]
  },
  {
   "cell_type": "code",
   "execution_count": null,
   "metadata": {},
   "outputs": [],
   "source": [
    "fig, ax = plt.subplots(figsize=(8,6))\n",
    "plt.plot(i_vals, adaboost_gain, label='Net Gain')\n",
    "plt.plot(i_vals, cost, label='Cost')\n",
    "plt.plot(i_vals,savings, label='Savings')\n",
    "plt.legend(loc=0)"
   ]
  },
  {
   "cell_type": "markdown",
   "metadata": {},
   "source": [
    "### Random Forest Tuning"
   ]
  },
  {
   "cell_type": "code",
   "execution_count": null,
   "metadata": {},
   "outputs": [],
   "source": [
    "pipe = Pipeline([('scaler', StandardScaler()), ('clf', RandomForestClassifier())])\n",
    "param_grid = [{'clf__max_depth': [4, 5, 6], 'clf__max_features': [5, 10, 15, 20], 'clf__n_estimators': [50, 100, 150]}]\n",
    "gs = GridSearchCV(pipe, param_grid, cv=5, n_jobs=-1, scoring='recall')\n",
    "gs.fit(X_train_res, y_train_res)\n"
   ]
  },
  {
   "cell_type": "code",
   "execution_count": null,
   "metadata": {},
   "outputs": [],
   "source": [
    "gs.best_params_"
   ]
  },
  {
   "cell_type": "code",
   "execution_count": null,
   "metadata": {},
   "outputs": [],
   "source": [
    "np.median(gs.cv_results_['mean_test_score'])"
   ]
  },
  {
   "cell_type": "code",
   "execution_count": null,
   "metadata": {},
   "outputs": [],
   "source": [
    "pred = gs.predict(X_train)\n",
    "print(classification_report(y_train, pred))"
   ]
  },
  {
   "cell_type": "code",
   "execution_count": null,
   "metadata": {},
   "outputs": [],
   "source": [
    "# Test against our test set\n",
    "gs.score(X_test, y_test)"
   ]
  },
  {
   "cell_type": "raw",
   "metadata": {},
   "source": [
    "np.median(gs.cv_results_['mean_test_score'])"
   ]
  },
  {
   "cell_type": "code",
   "execution_count": null,
   "metadata": {},
   "outputs": [],
   "source": [
    "randforest_gain = []\n",
    "i_vals = []\n",
    "cost = []\n",
    "savings = []\n",
    "\n",
    "pred = gs.predict(X_train)\n",
    "\n",
    "for i in np.linspace(0.0, 1.0, 101):\n",
    "    folds = KFold(n_splits=5, shuffle=True)\n",
    "    probs = cross_val_predict(gs.best_estimator_, X_train, y_train, cv=folds, method='predict_proba', n_jobs=-1)\n",
    "    probs = pd.DataFrame(probs)\n",
    "    #     probs = pd.DataFrame(gs.predict_proba(X_train))\n",
    "    new_pred = probs[1].apply(lambda x: 1 if x > i else 0)\n",
    "    conf = confusion_matrix(y_train, new_pred)\n",
    "\n",
    "    total_cost = (conf[0][1] * 100) + (conf[1][1] * 100) + conf[1][0] * 500\n",
    "    total_savings = conf[1][1] * 500\n",
    "\n",
    "    net_gain = total_savings - total_cost\n",
    "    randforest_gain.append(net_gain)\n",
    "    i_vals.append(i)\n",
    "    cost.append(total_cost)\n",
    "    savings.append(total_savings)\n",
    "\n",
    "print(f'Max net gain = {max(randforest_gain)}')\n"
   ]
  },
  {
   "cell_type": "markdown",
   "metadata": {},
   "source": [
    "#### Pickle lists so we don't have to run everything again"
   ]
  },
  {
   "cell_type": "code",
   "execution_count": null,
   "metadata": {},
   "outputs": [],
   "source": [
    "def make_backups():\n",
    "    with open('backups/randforest.pkl', 'wb') as f:\n",
    "        pickle.dump(randforest_gain, f)\n",
    "        \n",
    "    with open('backups/logistic.pkl', 'wb') as f:\n",
    "        pickle.dump(logistic_gain, f)\n",
    "        \n",
    "    with open('backups/gradboost.pkl', 'wb') as f:\n",
    "        pickle.dump(gradboost_gain, f)\n",
    "        \n",
    "# make_backups()"
   ]
  },
  {
   "cell_type": "markdown",
   "metadata": {},
   "source": [
    "#### Compute base cases where we predict all customers will churn, and none will churn"
   ]
  },
  {
   "cell_type": "code",
   "execution_count": null,
   "metadata": {},
   "outputs": [],
   "source": [
    "y_train.shape"
   ]
  },
  {
   "cell_type": "code",
   "execution_count": null,
   "metadata": {},
   "outputs": [],
   "source": [
    "new_pred_ones = np.ones(shape=(4922,))\n",
    "\n",
    "conf = confusion_matrix(y_train, new_pred_ones)\n",
    "\n",
    "total_cost = (conf[0][1] * 100) + (conf[1][1] * 100) + conf[1][0] * 500\n",
    "total_savings = conf[1][1] * 500\n",
    "\n",
    "net_gain = total_savings - total_cost\n",
    "print(net_gain)\n"
   ]
  },
  {
   "cell_type": "code",
   "execution_count": null,
   "metadata": {},
   "outputs": [],
   "source": [
    "new_pred_zeros = np.zeros(shape=(4922,))\n",
    "\n",
    "conf = confusion_matrix(y_train, new_pred_zeros)\n",
    "\n",
    "total_cost = (conf[0][1] * 100) + (conf[1][1] * 100) + conf[1][0] * 500\n",
    "total_savings = conf[1][1] * 500\n",
    "\n",
    "net_gain = total_savings - total_cost\n",
    "print(net_gain)\n"
   ]
  },
  {
   "cell_type": "code",
   "execution_count": null,
   "metadata": {},
   "outputs": [],
   "source": [
    "conf"
   ]
  },
  {
   "cell_type": "code",
   "execution_count": null,
   "metadata": {},
   "outputs": [],
   "source": [
    "net_gain"
   ]
  },
  {
   "cell_type": "markdown",
   "metadata": {},
   "source": [
    "#### Compute base case where we do nothing"
   ]
  },
  {
   "cell_type": "code",
   "execution_count": null,
   "metadata": {},
   "outputs": [],
   "source": [
    "# 1308 customers will churn, at an average cost to replace of $500 each\n",
    "# $654,000 loss, which is why our predictions bottom out at that number on the following chart (good to confirm that it does!)\n",
    "1308 * 500"
   ]
  },
  {
   "cell_type": "markdown",
   "metadata": {},
   "source": [
    "### Plot all Net Gain scores against each other"
   ]
  },
  {
   "cell_type": "code",
   "execution_count": null,
   "metadata": {},
   "outputs": [],
   "source": [
    "fig, ax = plt.subplots(figsize=(8, 6))\n",
    "plt.plot(i_vals, logistic_gain, label='Logistic Regression', color='green', lw=2)\n",
    "ax.axhline(y=0, color='black')\n",
    "ax.set_xlabel('Probability Threshold', fontsize=16, labelpad=10)\n",
    "ax.set_ylabel('$ Saved', rotation=90, fontsize=16, labelpad=10)\n",
    "ax.set_yticklabels(['-100k', '0', '100k', '200k', '300k'], fontsize=12)\n",
    "ax.set_xticklabels(['0', '0.1', '0.2', '0.3', '0.4', '0.5'], fontsize=12)\n",
    "ax.set_yticks([-100000, 0, 100000, 200000, 300000])\n",
    "ax.set_xbound(lower=0, upper=0.5)\n",
    "ax.set_ybound(lower=-100000, upper=300000)\n",
    "# plt.savefig('visualizations/net_cost_8.jpg', dpi=300)\n"
   ]
  },
  {
   "cell_type": "code",
   "execution_count": null,
   "metadata": {},
   "outputs": [],
   "source": [
    "fig, ax = plt.subplots(figsize=(8, 6))\n",
    "plt.plot(i_vals, logistic_gain, label='Logistic Regression', lw=2)\n",
    "plt.plot(i_vals, randforest_gain, label='Random Forests', lw=2)\n",
    "plt.plot(i_vals, gradboost_gain, label='Gradient Boost', lw=2)\n",
    "plt.legend(loc=0)\n",
    "ax.set_xlabel('Probability Threshold', fontsize=16, labelpad=10)\n",
    "ax.set_ylabel('$ Saved', rotation=90, fontsize=16, labelpad=10)\n",
    "ax.set_xbound(lower=0, upper=1)\n",
    "# plt.savefig('visualizations/net_cost_9.jpg', dpi=300)\n"
   ]
  },
  {
   "cell_type": "markdown",
   "metadata": {},
   "source": [
    "##  Cost minimization: "
   ]
  },
  {
   "cell_type": "code",
   "execution_count": null,
   "metadata": {},
   "outputs": [],
   "source": [
    "def makecost(obs,prob,falsepos_cost,falseneg_cost):\n",
    "    def cost(cutoff):\n",
    "        pred = np.array(prob > cutoff)\n",
    "        fpos = pred * (1 - obs)\n",
    "        fneg = (1 - pred) * obs\n",
    "        return np.sum(fpos * falsepos_cost + fneg * falseneg_cost)\n",
    "    return np.vectorize(cost)"
   ]
  },
  {
   "cell_type": "code",
   "execution_count": null,
   "metadata": {
    "scrolled": false
   },
   "outputs": [],
   "source": [
    "cut = np.linspace(0, 1, 100)\n",
    "cost = np.zeros_like(cut)\n",
    "from sklearn.model_selection import KFold, cross_val_predict\n",
    "\n",
    "obs = y_train\n",
    "\n",
    "K = 20\n",
    "for j in range(K):\n",
    "    folds = KFold(n_splits=5, shuffle=True)\n",
    "    prob = cross_val_predict(gs.best_estimator_, X_train, obs, cv=folds, method='predict_proba', n_jobs=5)[:, 1]\n",
    "    getcost = makecost(obs, prob, falsepos_cost=100, falseneg_cost=500)\n",
    "    currentcost = getcost(cut) / X.shape[0]\n",
    "    cost += currentcost\n",
    "    plt.plot(cut, currentcost, c='C0', alpha=0.05)\n",
    "cost /= K\n",
    "plt.plot(cut, cost, c='C0')\n",
    "plt.xlabel('cutoff')\n",
    "plt.ylabel('Expected cost per data point');\n"
   ]
  },
  {
   "cell_type": "code",
   "execution_count": null,
   "metadata": {},
   "outputs": [],
   "source": [
    "bestcut = cut[np.argmin(cost)]\n",
    "bestcut"
   ]
  },
  {
   "cell_type": "code",
   "execution_count": null,
   "metadata": {},
   "outputs": [],
   "source": [
    "categories = ['Logistic Regression', 'AdaBoost', 'Random Forests', 'Gradient Boosting']\n",
    "recall_pct = [0.81, 0.74, 0.72, 0.68]\n",
    "net_gain = [272000, 257200, 262800, 263600]"
   ]
  },
  {
   "cell_type": "code",
   "execution_count": null,
   "metadata": {},
   "outputs": [],
   "source": [
    "categories = ['Do nothing', 'Assume everyone will churn', 'Our model']\n",
    "gain = [-654000, 162000, 272000]\n",
    "\n",
    "fig, ax = plt.subplots(figsize=(8,8))\n",
    "barlist = ax.bar(categories, gain, edgecolor='black')\n",
    "ax.axhline(y=0, color='black')\n",
    "ax.set_xticklabels(['Do\\nnothing', 'Retain\\neveryone', 'Our\\nmodel'], fontsize=20)\n",
    "ax.set_yticklabels(['-$600k', '-$400k', '-$200k', '$0', '200k','400k'], fontsize=20)\n",
    "ax.set_yticks([-600000, -400000, -200000, 0, 200000, 400000])\n",
    "ax.set_ybound(lower=-700000, upper=400000)\n",
    "barlist[2].set_edgecolor('black')\n",
    "plt.grid(axis='x')\n",
    "# plt.savefig('visualizations/our_model.jpg', dpi=300)"
   ]
  },
  {
   "cell_type": "code",
   "execution_count": null,
   "metadata": {},
   "outputs": [],
   "source": []
  },
  {
   "cell_type": "code",
   "execution_count": null,
   "metadata": {},
   "outputs": [],
   "source": [
    "categories = ['Do nothing', 'Assume everyone will churn', 'Build a model']\n",
    "gain = [-654000, 162000, 0]\n",
    "\n",
    "fig, ax = plt.subplots(figsize=(8,8))\n",
    "barlist = ax.bar(categories, gain, edgecolor='black')\n",
    "ax.axhline(y=0, color='black')\n",
    "ax.set_xticklabels(['Do\\nnothing', 'Retain\\neveryone', 'Build a\\nmodel'], fontsize=20)\n",
    "ax.set_yticklabels(['-$600k', '-$400k', '-$200k', '$0', '200k','400k'], fontsize=20)\n",
    "ax.set_yticks([-600000, -400000, -200000, 0, 200000, 400000])\n",
    "ax.set_ybound(lower=-700000, upper=400000)\n",
    "plt.grid(axis='x')\n",
    "# plt.savefig('visualizations/model_comparison.jpg', dpi=300)"
   ]
  },
  {
   "cell_type": "code",
   "execution_count": null,
   "metadata": {},
   "outputs": [],
   "source": []
  }
 ],
 "metadata": {
  "kernelspec": {
   "display_name": "Python 3",
   "language": "python",
   "name": "python3"
  },
  "language_info": {
   "codemirror_mode": {
    "name": "ipython",
    "version": 3
   },
   "file_extension": ".py",
   "mimetype": "text/x-python",
   "name": "python",
   "nbconvert_exporter": "python",
   "pygments_lexer": "ipython3",
   "version": "3.6.5"
  },
  "toc-autonumbering": false,
  "toc-showcode": true,
  "toc-showmarkdowntxt": false,
  "toc-showtags": false
 },
 "nbformat": 4,
 "nbformat_minor": 2
}
