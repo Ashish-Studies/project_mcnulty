{
 "cells": [
  {
   "cell_type": "code",
   "execution_count": 26,
   "metadata": {
    "tags": [
     "settings"
    ]
   },
   "outputs": [],
   "source": [
    "import pandas as pd\n",
    "import numpy as np\n",
    "import seaborn as sns\n",
    "import matplotlib.pyplot as plt\n",
    "import matplotlib.style as style\n",
    "style.use('seaborn-whitegrid')\n",
    "%matplotlib inline\n",
    "import pickle\n",
    "from collections import defaultdict\n",
    "\n",
    "from sklearn.tree import DecisionTreeClassifier\n",
    "from sklearn.svm import LinearSVC\n",
    "from sklearn.svm import SVC\n",
    "from sklearn.ensemble import RandomForestClassifier\n",
    "from sklearn.linear_model import LogisticRegression\n",
    "from sklearn.ensemble import GradientBoostingClassifier\n",
    "from sklearn.model_selection import train_test_split\n",
    "from sklearn.pipeline import make_pipeline\n",
    "from sklearn.preprocessing import StandardScaler\n",
    "\n",
    "pd.set_option('max_rows', 10)\n",
    "pd.set_option('max_columns', 30)\n",
    "pd.set_option('max_colwidth', -1)\n",
    "# pd.set_option('display.width', 150)"
   ]
  },
  {
   "cell_type": "code",
   "execution_count": 2,
   "metadata": {},
   "outputs": [],
   "source": [
    "# import warnings\n",
    "# # warnings.filterwarnings(\"ignore\")"
   ]
  },
  {
   "cell_type": "code",
   "execution_count": 5,
   "metadata": {},
   "outputs": [],
   "source": [
    "# # Change format of charts to .svg\n",
    "%config InlineBackend.figure_format = 'svg'"
   ]
  },
  {
   "cell_type": "code",
   "execution_count": 3,
   "metadata": {},
   "outputs": [
    {
     "name": "stdout",
     "output_type": "stream",
     "text": [
      "Exception reporting mode: Plain\n"
     ]
    }
   ],
   "source": [
    "%xmode"
   ]
  },
  {
   "cell_type": "code",
   "execution_count": 15,
   "metadata": {},
   "outputs": [],
   "source": [
    "df = pd.read_csv('data/clean_data_encoded_for_regression.csv')\n",
    "\n",
    "X = df[['gender', 'senior', 'partner', 'dependents', 'tenure', 'phone_service',\n",
    "       'multiple_lines', 'online_security', 'online_backup',\n",
    "       'device_protection', 'tech_support', 'streaming_tv', 'streaming_movies',\n",
    "       'paperless_billing', 'monthly_charges', 'total_charges',\n",
    "       'avg_monthly_charges', 'internet_service-fiber_optic',\n",
    "       'internet_service-no', 'contract-one_year', 'contract-two_year',\n",
    "       'payment_method-credit_card_auto', 'payment_method-electronic_check',\n",
    "       'payment_method-mailed_check']]\n",
    "\n",
    "y = df['churn']\n",
    "\n",
    "X_train, X_test, y_train, y_test = train_test_split(X, y, test_size=0.33, random_state=40)"
   ]
  },
  {
   "cell_type": "code",
   "execution_count": 18,
   "metadata": {},
   "outputs": [
    {
     "name": "stdout",
     "output_type": "stream",
     "text": [
      "Train Acc    0.664119\n",
      "Test Acc     0.669731\n",
      "dtype: float64\n"
     ]
    }
   ],
   "source": [
    "def quick_test(model, X, y):\n",
    "    xtrain, xtest, ytrain, ytest = train_test_split(X, y, test_size=0.3)\n",
    "    model.fit(xtrain, ytrain)\n",
    "    return model.score(xtrain,ytrain),model.score(xtest, ytest)\n",
    "\n",
    "def quick_test_a_few_times(model, X, y, n=10):\n",
    "    return (pd.DataFrame([quick_test(model, X, y) for j in range(n)],\n",
    "                         columns=['Train Acc','Test Acc'])).mean()\n",
    "\n",
    "linearsvc = LinearSVC()\n",
    "# Do the test 10 times with a LinearSVC and get the average score\n",
    "print(quick_test_a_few_times(linearsvc, X_train, y_train))"
   ]
  },
  {
   "cell_type": "code",
   "execution_count": 19,
   "metadata": {},
   "outputs": [
    {
     "data": {
      "text/plain": [
       "Train Acc    0.998574\n",
       "Test Acc     0.727864\n",
       "dtype: float64"
      ]
     },
     "execution_count": 19,
     "metadata": {},
     "output_type": "execute_result"
    }
   ],
   "source": [
    "decisiontree = DecisionTreeClassifier()\n",
    "quick_test_a_few_times(decisiontree, X_train, y_train)"
   ]
  },
  {
   "cell_type": "code",
   "execution_count": 20,
   "metadata": {},
   "outputs": [
    {
     "data": {
      "text/plain": [
       "Train Acc    0.981104\n",
       "Test Acc     0.794059\n",
       "dtype: float64"
      ]
     },
     "execution_count": 20,
     "metadata": {},
     "output_type": "execute_result"
    }
   ],
   "source": [
    "randomforest = RandomForestClassifier()\n",
    "quick_test_a_few_times(randomforest, X_train, y_train)"
   ]
  },
  {
   "cell_type": "code",
   "execution_count": 21,
   "metadata": {},
   "outputs": [
    {
     "data": {
      "text/plain": [
       "Train Acc    0.846103\n",
       "Test Acc     0.806223\n",
       "dtype: float64"
      ]
     },
     "execution_count": 21,
     "metadata": {},
     "output_type": "execute_result"
    }
   ],
   "source": [
    "gradboost = GradientBoostingClassifier()\n",
    "quick_test_a_few_times(gradboost, X_train, y_train)"
   ]
  },
  {
   "cell_type": "code",
   "execution_count": 22,
   "metadata": {},
   "outputs": [
    {
     "data": {
      "text/plain": [
       "Train Acc    0.811495\n",
       "Test Acc     0.808628\n",
       "dtype: float64"
      ]
     },
     "execution_count": 22,
     "metadata": {},
     "output_type": "execute_result"
    }
   ],
   "source": [
    "logreg = LogisticRegression()\n",
    "quick_test_a_few_times(logreg, X_train, y_train)"
   ]
  },
  {
   "cell_type": "code",
   "execution_count": 23,
   "metadata": {},
   "outputs": [
    {
     "data": {
      "text/plain": [
       "Train Acc    0.635729\n",
       "Test Acc     0.637765\n",
       "dtype: float64"
      ]
     },
     "execution_count": 23,
     "metadata": {},
     "output_type": "execute_result"
    }
   ],
   "source": [
    "linearsvc = LinearSVC()\n",
    "quick_test_a_few_times(linearsvc, X_train, y_train)"
   ]
  },
  {
   "cell_type": "markdown",
   "metadata": {},
   "source": [
    "#### Using a kernel can do better:"
   ]
  },
  {
   "cell_type": "code",
   "execution_count": 65,
   "metadata": {},
   "outputs": [
    {
     "data": {
      "text/plain": [
       "Train Acc    0.83391\n",
       "Test Acc     0.80198\n",
       "dtype: float64"
      ]
     },
     "execution_count": 65,
     "metadata": {},
     "output_type": "execute_result"
    }
   ],
   "source": [
    "model = make_pipeline(StandardScaler(), SVC())\n",
    "model.fit(X_train, y_train)\n",
    "pred = model.predict(X_test)\n",
    "\n",
    "quick_test_a_few_times(model, X_train, y_train)"
   ]
  },
  {
   "cell_type": "code",
   "execution_count": null,
   "metadata": {},
   "outputs": [],
   "source": []
  },
  {
   "cell_type": "code",
   "execution_count": 70,
   "metadata": {},
   "outputs": [],
   "source": [
    "decisiontree = DecisionTreeClassifier()\n",
    "decisiontree.fit(X_train, y_train)\n",
    "coeffs = decisiontree.feature_importances_ # it's a percentage\n",
    "\n",
    "list_of_coeffs = list(sorted(zip(coeffs, X.columns)))"
   ]
  },
  {
   "cell_type": "code",
   "execution_count": 71,
   "metadata": {},
   "outputs": [
    {
     "name": "stdout",
     "output_type": "stream",
     "text": [
      "[(0.0012168986905327964, 'phone_service'),\n",
      " (0.0076606922626349105, 'streaming_movies'),\n",
      " (0.008747912285878073, 'internet_service-no'),\n",
      " (0.00927705788162022, 'payment_method-mailed_check'),\n",
      " (0.010001372110225597, 'contract-two_year'),\n",
      " (0.010195375741206061, 'payment_method-credit_card_auto'),\n",
      " (0.010575487520069019, 'online_backup'),\n",
      " (0.01081794950111941, 'tech_support'),\n",
      " (0.011230398175992709, 'device_protection'),\n",
      " (0.011578179834434047, 'dependents'),\n",
      " (0.012249369989251028, 'contract-one_year'),\n",
      " (0.013363744074293795, 'online_security'),\n",
      " (0.013752511429743354, 'streaming_tv'),\n",
      " (0.015882834539806247, 'senior'),\n",
      " (0.01603643664716522, 'partner'),\n",
      " (0.016388494005221448, 'multiple_lines'),\n",
      " (0.01808830427107981, 'paperless_billing'),\n",
      " (0.024198036503276527, 'gender'),\n",
      " (0.04240045131079471, 'payment_method-electronic_check'),\n",
      " (0.09384601872053809, 'internet_service-fiber_optic'),\n",
      " (0.1318047098051532, 'monthly_charges'),\n",
      " (0.14380464972645415, 'total_charges'),\n",
      " (0.15999083464023092, 'avg_monthly_charges'),\n",
      " (0.20689228033327875, 'tenure')]\n"
     ]
    }
   ],
   "source": [
    "import pprint\n",
    "pprint.pprint(list_of_coeffs)"
   ]
  },
  {
   "cell_type": "code",
   "execution_count": 72,
   "metadata": {},
   "outputs": [
    {
     "name": "stdout",
     "output_type": "stream",
     "text": [
      "[(0.005866661481227731, 'phone_service'),\n",
      " (0.010861471069343234, 'payment_method-credit_card_auto'),\n",
      " (0.010978763432789496, 'payment_method-mailed_check'),\n",
      " (0.012061918826816976, 'streaming_movies'),\n",
      " (0.012923148086394132, 'internet_service-no'),\n",
      " (0.015416559086757004, 'device_protection'),\n",
      " (0.016420046728377845, 'dependents'),\n",
      " (0.0164386606008635, 'multiple_lines'),\n",
      " (0.01688470555390193, 'senior'),\n",
      " (0.017442117811329733, 'streaming_tv'),\n",
      " (0.01770883329409794, 'tech_support'),\n",
      " (0.0178021811937957, 'online_backup'),\n",
      " (0.02059063619546222, 'online_security'),\n",
      " (0.0209875141429226, 'contract-one_year'),\n",
      " (0.021881273708861847, 'partner'),\n",
      " (0.02266208755969698, 'gender'),\n",
      " (0.02747772548215748, 'paperless_billing'),\n",
      " (0.03216403982206648, 'contract-two_year'),\n",
      " (0.04281275043490627, 'internet_service-fiber_optic'),\n",
      " (0.045427035470715825, 'payment_method-electronic_check'),\n",
      " (0.13740279137472816, 'monthly_charges'),\n",
      " (0.1428683656919248, 'avg_monthly_charges'),\n",
      " (0.14774714975609365, 'tenure'),\n",
      " (0.16717356319476848, 'total_charges')]\n"
     ]
    }
   ],
   "source": [
    "randomforest = RandomForestClassifier()\n",
    "randomforest.fit(X_train, y_train)\n",
    "coeffs = randomforest.feature_importances_\n",
    "\n",
    "list_of_coeffs = list(sorted(zip(coeffs, X.columns)))\n",
    "pprint.pprint(list_of_coeffs)"
   ]
  },
  {
   "cell_type": "code",
   "execution_count": 20,
   "metadata": {},
   "outputs": [
    {
     "data": {
      "text/plain": [
       "array([ 0.51210253,  0.24789747])"
      ]
     },
     "execution_count": 20,
     "metadata": {},
     "output_type": "execute_result"
    }
   ],
   "source": [
    "gradboost = GradientBoostingClassifier()\n",
    "gradboost.fit(xtrain, ytrain)\n",
    "gradboost.feature_importances_ # values are between 0 and 1, not normalized"
   ]
  },
  {
   "cell_type": "code",
   "execution_count": 21,
   "metadata": {},
   "outputs": [
    {
     "data": {
      "text/plain": [
       "array([[-0.17885376, -0.48240484]])"
      ]
     },
     "execution_count": 21,
     "metadata": {},
     "output_type": "execute_result"
    }
   ],
   "source": [
    "s2 = LinearSVC()\n",
    "s2.fit(xtrain, ytrain)\n",
    "s2.coef_ # the absolute value dictates importance"
   ]
  },
  {
   "cell_type": "code",
   "execution_count": 22,
   "metadata": {},
   "outputs": [
    {
     "data": {
      "text/plain": [
       "array([[-0.33875448, -0.88451115]])"
      ]
     },
     "execution_count": 22,
     "metadata": {},
     "output_type": "execute_result"
    }
   ],
   "source": [
    "logreg = LogisticRegression()\n",
    "logreg.fit(xtrain, ytrain)\n",
    "logreg.coef_ # the abosulute value dictates importance"
   ]
  }
 ],
 "metadata": {
  "kernelspec": {
   "display_name": "Python 3",
   "language": "python",
   "name": "python3"
  },
  "language_info": {
   "codemirror_mode": {
    "name": "ipython",
    "version": 3
   },
   "file_extension": ".py",
   "mimetype": "text/x-python",
   "name": "python",
   "nbconvert_exporter": "python",
   "pygments_lexer": "ipython3",
   "version": "3.6.6"
  }
 },
 "nbformat": 4,
 "nbformat_minor": 2
}
